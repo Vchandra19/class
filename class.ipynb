{
  "nbformat": 4,
  "nbformat_minor": 0,
  "metadata": {
    "colab": {
      "provenance": []
    },
    "kernelspec": {
      "name": "python3",
      "display_name": "Python 3"
    },
    "language_info": {
      "name": "python"
    }
  },
  "cells": [
    {
      "cell_type": "code",
      "execution_count": null,
      "metadata": {
        "id": "qp4M0alM-kCu"
      },
      "outputs": [],
      "source": []
    },
    {
      "cell_type": "markdown",
      "source": [
        "TASK 1\n",
        "\n",
        "Problem Statement 1: Create a Constructor for a Person\n",
        "\n",
        "Write a JavaScript function constructor named Person that takes two parameters, name, and age, and Add a\n",
        "method to the prototype to display name and age. Then, create two instances of Person and display their\n",
        "names and ages.\n",
        "\n",
        "Ans:"
      ],
      "metadata": {
        "id": "kmpREKOi-n2K"
      }
    },
    {
      "cell_type": "code",
      "source": [
        "// Create a Constructor for a Person\n",
        "function Person(name, age) {\n",
        "    this.name = name;\n",
        "    this.age = age;\n",
        "}\n",
        "\n",
        "// Add a method to the prototype to display name and age\n",
        "Person.prototype.displayInfo = function() {\n",
        "    console.log(Name: ${this.name}, Age: ${this.age});\n",
        "};\n",
        "\n",
        "// Create two instances of Person\n",
        "const person1 = new Person(\"Alice\", 30);\n",
        "const person2 = new Person(\"Bob\", 24);\n",
        "\n",
        "// Display their names and ages\n",
        "console.log(\"TASK 1 Output:\");\n",
        "person1.displayInfo();\n",
        "person2.displayInfo();\n",
        "console.log(\"---\");"
      ],
      "metadata": {
        "id": "YhO6_3q9-yWW"
      },
      "execution_count": null,
      "outputs": []
    },
    {
      "cell_type": "markdown",
      "source": [
        "Explanation: This task shows how to create a \"blueprint\" for objects using an old JavaScript feature called a \"constructor function.\" Each Person object gets a name and age. We then add a displayInfo method to the Person blueprint's prototype, allowing all persons created from it to easily print their details without duplicating the function for every single person."
      ],
      "metadata": {
        "id": "SQDrgQE8BhrM"
      }
    },
    {
      "cell_type": "markdown",
      "source": [
        "TASK 2\n",
        "\n",
        "Problem Statement 2: Implement a Bank Account\n",
        "\n",
        "Create a constructor function named BankAccount that initializes a bank account with an initial balance.\n",
        "Include methods for depositing and withdrawing money from the account. Write code to demonstrate these\n",
        "operations on a bank account object."
      ],
      "metadata": {
        "id": "o-Dr-pGi_CRU"
      }
    },
    {
      "cell_type": "code",
      "source": [
        "// Implement a Bank Account\n",
        "function BankAccount(initialBalance) {\n",
        "    this.balance = initialBalance;\n",
        "\n",
        "    this.deposit = function(amount) {\n",
        "        if (amount > 0) {\n",
        "            this.balance += amount;\n",
        "            console.log(Deposited: $${amount}. New balance: $${this.balance});\n",
        "        } else {\n",
        "            console.log(\"Deposit amount must be positive.\");\n",
        "        }\n",
        "    };\n",
        "\n",
        "    this.withdraw = function(amount) {\n",
        "        if (amount > 0) {\n",
        "            if (this.balance >= amount) {\n",
        "                this.balance -= amount;\n",
        "                console.log(Withdrew: $${amount}. New balance: $${this.balance});\n",
        "            } else {\n",
        "                console.log(\"Insufficient funds.\");\n",
        "            }\n",
        "        } else {\n",
        "            console.log(\"Withdrawal amount must be positive.\");\n",
        "        }\n",
        "    };\n",
        "\n",
        "    this.getBalance = function() {\n",
        "        return this.balance;\n",
        "    };\n",
        "}\n",
        "\n",
        "// Demonstrate these operations on a bank account object\n",
        "console.log(\"TASK 2 Output:\");\n",
        "const myAccount = new BankAccount(1000);\n",
        "console.log(Initial Balance: $${myAccount.getBalance()});\n",
        "myAccount.deposit(500);\n",
        "myAccount.withdraw(200);\n",
        "myAccount.withdraw(1500); // Insufficient funds\n",
        "myAccount.deposit(-100); // Invalid deposit\n",
        "console.log(Final Balance: $${myAccount.getBalance()});\n",
        "console.log(\"---\");"
      ],
      "metadata": {
        "id": "ViIlk3e8_GQE"
      },
      "execution_count": null,
      "outputs": []
    },
    {
      "cell_type": "markdown",
      "source": [
        "Explanation: This code sets up a BankAccount blueprint where each account holds a balance. It includes functions to deposit money (adding to balance), withdraw money (subtracting from balance, with checks for enough funds), and getBalance (to see the current amount). This demonstrates how to manage an object's internal data (balance) through specific actions (methods)."
      ],
      "metadata": {
        "id": "82eJDmppBjoQ"
      }
    },
    {
      "cell_type": "markdown",
      "source": [
        "TASK 3\n",
        "\n",
        "Problem Statement 3: Create a Constructor for a Book\n",
        "\n",
        "Design a constructor function called Book that takes title and author as parameters. Add a method to the\n",
        "prototype of the Book that displays the book's information. Create at least two book instances and display their information."
      ],
      "metadata": {
        "id": "GKXQ8Wsd_LDI"
      }
    },
    {
      "cell_type": "code",
      "source": [
        "//  Create a Constructor for a Book\n",
        "function Book(title, author) {\n",
        "    this.title = title;\n",
        "    this.author = author;\n",
        "}\n",
        "\n",
        "// Add a method to the prototype that displays the book's information\n",
        "Book.prototype.displayBookInfo = function() {\n",
        "    console.log(Title: \"${this.title}\", Author: ${this.author});\n",
        "};\n",
        "\n",
        "// Create at least two book instances\n",
        "const book1 = new Book(\"The Hobbit\", \"J.R.R. Tolkien\");\n",
        "const book2 = new Book(\"1984\", \"George Orwell\");\n",
        "\n",
        "// Display their information\n",
        "console.log(\"TASK 3 Output:\");\n",
        "book1.displayBookInfo();\n",
        "book2.displayBookInfo();\n",
        "console.log(\"---\");"
      ],
      "metadata": {
        "id": "x1EG2Gle_Qev"
      },
      "execution_count": null,
      "outputs": []
    },
    {
      "cell_type": "markdown",
      "source": [
        "Explanation: Similar to the Person task, this creates a Book blueprint using a constructor function. Each book gets a title and an author. A displayBookInfo method is added to the Book blueprint's prototype, allowing all book objects to print their details efficiently. This reinforces the pattern of defining object properties and shared behaviors."
      ],
      "metadata": {
        "id": "9b4s8CasBmTK"
      }
    },
    {
      "cell_type": "markdown",
      "source": [
        "TASK 4\n",
        "\n",
        "Problem Statement 4: Implement Task 1 using Class.\n",
        "\n",
        "Design a JavaScript class called Person with properties for name and age. Implement a method to display the\n",
        "person's name and age. Then, create instances of Person and display their information."
      ],
      "metadata": {
        "id": "T5meP-AU_VDY"
      }
    },
    {
      "cell_type": "code",
      "source": [
        "//  Implement Task 1 using Class\n",
        "class PersonClass {\n",
        "    constructor(name, age) {\n",
        "        this.name = name;\n",
        "        this.age = age;\n",
        "    }\n",
        "\n",
        "    // Method to display the person's name and age\n",
        "    displayInfo() {\n",
        "        console.log(Name: ${this.name}, Age: ${this.age});\n",
        "    }\n",
        "}\n",
        "\n",
        "// Create instances of Person\n",
        "const personClass1 = new PersonClass(\"Charlie\", 28);\n",
        "const personClass2 = new PersonClass(\"Diana\", 35);\n",
        "\n",
        "// Display their information\n",
        "console.log(\"TASK 4 Output:\");\n",
        "personClass1.displayInfo();\n",
        "personClass2.displayInfo();\n",
        "console.log(\"---\");"
      ],
      "metadata": {
        "id": "Bkk_3UEX_ZAP"
      },
      "execution_count": null,
      "outputs": []
    },
    {
      "cell_type": "markdown",
      "source": [
        "Explanation: This task achieves the same goal as Task 1 (creating a Person blueprint) but uses the modern class syntax introduced in ES6. class provides a cleaner and more structured way to define objects, with a constructor for setup and methods (like displayInfo) directly inside the class. It's essentially a clearer way to write the constructor and prototype pattern."
      ],
      "metadata": {
        "id": "AUKpx6QWBos-"
      }
    },
    {
      "cell_type": "markdown",
      "source": [
        "TASK 5\n",
        "\n",
        "Problem Statement 5: Implement a Calculator Class\n",
        "\n",
        "Create a class called Calculator that initializes two values value1 and value2 to store numbers. Add methods for\n",
        "add, subtract, multiply, and divide. Perform and show operations."
      ],
      "metadata": {
        "id": "IIY4zwqv_ef0"
      }
    },
    {
      "cell_type": "code",
      "source": [
        "// Implement a Calculator Class\n",
        "class Calculator {\n",
        "    constructor(value1, value2) {\n",
        "        this.value1 = value1;\n",
        "        this.value2 = value2;\n",
        "    }\n",
        "\n",
        "    add() {\n",
        "        return this.value1 + this.value2;\n",
        "    }\n",
        "\n",
        "    subtract() {\n",
        "        return this.value1 - this.value2;\n",
        "    }\n",
        "\n",
        "    multiply() {\n",
        "        return this.value1 * this.value2;\n",
        "    }\n",
        "\n",
        "    divide() {\n",
        "        if (this.value2 === 0) {\n",
        "            return \"Cannot divide by zero\";\n",
        "        }\n",
        "        return this.value1 / this.value2;\n",
        "    }\n",
        "}\n",
        "\n",
        "// Create instances of these shapes and calculate their areas and perimeters.\n",
        "console.log(\"TASK 5 Output:\");\n",
        "const calc1 = new Calculator(10, 5);\n",
        "console.log(Addition: ${calc1.add()});\n",
        "console.log(Subtraction: ${calc1.subtract()});\n",
        "console.log(Multiplication: ${calc1.multiply()});\n",
        "console.log(Division: ${calc1.divide()});\n",
        "\n",
        "const calc2 = new Calculator(7, 0);\n",
        "console.log(Division by zero: ${calc2.divide()});\n",
        "console.log(\"---\");"
      ],
      "metadata": {
        "id": "ePU7oNme_j2q"
      },
      "execution_count": null,
      "outputs": []
    },
    {
      "cell_type": "markdown",
      "source": [
        "Explanation: This code defines a Calculator blueprint using the class syntax. When you make a Calculator object, you provide two initial numbers. The class then includes methods for basic math operations: add, subtract, multiply, and divide. The divide method also prevents errors if you try to divide by zero."
      ],
      "metadata": {
        "id": "vTVs68w1Brz4"
      }
    },
    {
      "cell_type": "markdown",
      "source": [
        "TASK 6\n",
        "\n",
        "Problem Statement 6: Design a Class for a Geometric Shape\n",
        "\n",
        "Design a class called Shape that can represent various geometric shapes. Implement subclasses for specific\n",
        "shapes like Circle, Rectangle, and RightTriangle. Each subclass should have properties of that shape (e.g..\n",
        "Width, height for a rectangle) and methods for calculating the area and perimeter of the shape. Create\n",
        "instances of these shapes and calculate their areas and perimeters."
      ],
      "metadata": {
        "id": "Lf1fn7bE_nfS"
      }
    },
    {
      "cell_type": "code",
      "source": [
        "// Design a Class for a Geometric Shape\n",
        "class Shape {\n",
        "    constructor(name) {\n",
        "        this.name = name;\n",
        "    }\n",
        "\n",
        "    getArea() {\n",
        "        throw new Error(\"Method 'getArea()' must be implemented by subclasses.\");\n",
        "    }\n",
        "\n",
        "    getPerimeter() {\n",
        "        throw new Error(\"Method 'getPerimeter()' must be implemented by subclasses.\");\n",
        "    }\n",
        "\n",
        "    displayShapeInfo() {\n",
        "        console.log(Shape: ${this.name});\n",
        "        try {\n",
        "            console.log(Area: ${this.getArea()});\n",
        "        } catch (e) {\n",
        "            console.log(e.message);\n",
        "        }\n",
        "        try {\n",
        "            console.log(Perimeter: ${this.getPerimeter()});\n",
        "        } catch (e) {\n",
        "            console.log(e.message);\n",
        "        }\n",
        "    }\n",
        "}\n",
        "\n",
        "class Circle extends Shape {\n",
        "    constructor(radius) {\n",
        "        super(\"Circle\");\n",
        "        this.radius = radius;\n",
        "    }\n",
        "\n",
        "    getArea() {\n",
        "        return Math.PI * this.radius * this.radius;\n",
        "    }\n",
        "\n",
        "    getPerimeter() {\n",
        "        return 2 * Math.PI * this.radius;\n",
        "    }\n",
        "}\n",
        "\n",
        "class Rectangle extends Shape {\n",
        "    constructor(width, height) {\n",
        "        super(\"Rectangle\");\n",
        "        this.width = width;\n",
        "        this.height = height;\n",
        "    }\n",
        "\n",
        "    getArea() {\n",
        "        return this.width * this.height;\n",
        "    }\n",
        "\n",
        "    getPerimeter() {\n",
        "        return 2 * (this.width + this.height);\n",
        "    }\n",
        "}\n",
        "\n",
        "class RightTriangle extends Shape {\n",
        "    constructor(base, height) {\n",
        "        super(\"Right Triangle\");\n",
        "        this.base = base;\n",
        "        this.height = height;\n",
        "    }\n",
        "\n",
        "    getArea() {\n",
        "        return 0.5 * this.base * this.height;\n",
        "    }\n",
        "\n",
        "    getPerimeter() {\n",
        "        // Hypotenuse for a right triangle\n",
        "        const hypotenuse = Math.sqrt(this.base * this.base + this.height * this.height);\n",
        "        return this.base + this.height + hypotenuse;\n",
        "    }\n",
        "}\n",
        "\n",
        "// Create instances of these shapes and calculate their areas and perimeters.\n",
        "console.log(\"TASK 6 Output:\");\n",
        "const circle = new Circle(5);\n",
        "circle.displayShapeInfo();\n",
        "console.log(\"\\n\");\n",
        "\n",
        "const rectangle = new Rectangle(4, 6);\n",
        "rectangle.displayShapeInfo();\n",
        "console.log(\"\\n\");\n",
        "\n",
        "const triangle = new RightTriangle(3, 4);\n",
        "triangle.displayShapeInfo();\n",
        "console.log(\"---\");"
      ],
      "metadata": {
        "id": "Uvzo7TeB_qtq"
      },
      "execution_count": null,
      "outputs": []
    },
    {
      "cell_type": "markdown",
      "source": [
        "Explanation: This task demonstrates \"inheritance\" using classes. A main Shape class defines common traits. Then, specific shapes like Circle, Rectangle, and RightTriangle extend (inherit from) Shape. Each specific shape provides its own unique way to calculate area and perimeter, overriding the generic Shape methods. This promotes code reuse and organization."
      ],
      "metadata": {
        "id": "MIkNMc4EBvhl"
      }
    },
    {
      "cell_type": "markdown",
      "source": [
        "TASK 7\n",
        "\n",
        "Problem Statement 7: Implement a Library System\n",
        "\n",
        "Create a class called Library that can manage a collection of books. Each book should be represented as an\n",
        "instance of a Book class (with properties like title, author, and availability). Implement methods in the Library\n",
        "class to add books, check out books, and return books. Keep track of the books available."
      ],
      "metadata": {
        "id": "XWqU7ice_21E"
      }
    },
    {
      "cell_type": "code",
      "source": [
        "//  Implement a Library System\n",
        "\n",
        "class BookInLibrary {\n",
        "    constructor(title, author, availability = true) {\n",
        "        this.title = title;\n",
        "        this.author = author;\n",
        "        this.availability = availability; // true if available, false if checked out\n",
        "    }\n",
        "}\n",
        "\n",
        "class Library {\n",
        "    constructor() {\n",
        "        this.books = []; // Collection of BookInLibrary objects\n",
        "    }\n",
        "\n",
        "    addBook(title, author) {\n",
        "        const newBook = new BookInLibrary(title, author);\n",
        "        this.books.push(newBook);\n",
        "        console.log(Added \"${title}\" by ${author} to the library.);\n",
        "    }\n",
        "\n",
        "    checkOutBook(title) {\n",
        "        const book = this.books.find(b => b.title === title && b.availability);\n",
        "        if (book) {\n",
        "            book.availability = false;\n",
        "            console.log(Checked out \"${title}\".);\n",
        "            return true;\n",
        "        } else {\n",
        "            console.log(\"${title}\" is not available for checkout.);\n",
        "            return false;\n",
        "        }\n",
        "    }\n",
        "\n",
        "    returnBook(title) {\n",
        "        const book = this.books.find(b => b.title === title && !b.availability);\n",
        "        if (book) {\n",
        "            book.availability = true;\n",
        "            console.log(Returned \"${title}\".);\n",
        "            return true;\n",
        "        } else {\n",
        "            console.log(\"${title}\" was not checked out or not found.);\n",
        "            return false;\n",
        "        }\n",
        "    }\n",
        "\n",
        "    listAvailableBooks() {\n",
        "        console.log(\"\\n--- Available Books ---\");\n",
        "        const available = this.books.filter(book => book.availability);\n",
        "        if (available.length === 0) {\n",
        "            console.log(\"No books currently available.\");\n",
        "            return;\n",
        "        }\n",
        "        available.forEach(book => {\n",
        "            console.log(- \"${book.title}\" by ${book.author});\n",
        "        });\n",
        "        console.log(\"-----------------------\");\n",
        "    }\n",
        "\n",
        "    listAllBooks() {\n",
        "        console.log(\"\\n--- All Books in Library ---\");\n",
        "        if (this.books.length === 0) {\n",
        "            console.log(\"Library is empty.\");\n",
        "            return;\n",
        "        }\n",
        "        this.books.forEach(book => {\n",
        "            console.log(- \"${book.title}\" by ${book.author} (Available: ${book.availability ? 'Yes' : 'No'}));\n",
        "        });\n",
        "        console.log(\"----------------------------\");\n",
        "    }\n",
        "}\n",
        "\n",
        "// Demonstrate the Library system\n",
        "console.log(\"TASK 7 Output:\");\n",
        "const myLibrary = new Library();\n",
        "\n",
        "myLibrary.addBook(\"The Great Gatsby\", \"F. Scott Fitzgerald\");\n",
        "myLibrary.addBook(\"To Kill a Mockingbird\", \"Harper Lee\");\n",
        "myLibrary.addBook(\"Pride and Prejudice\", \"Jane Austen\");\n",
        "\n",
        "myLibrary.listAllBooks();\n",
        "myLibrary.listAvailableBooks();\n",
        "\n",
        "myLibrary.checkOutBook(\"The Great Gatsby\");\n",
        "myLibrary.checkOutBook(\"The Great Gatsby\"); // Try to check out again\n",
        "myLibrary.checkOutBook(\"Non Existent Book\");\n",
        "\n",
        "myLibrary.listAllBooks();\n",
        "myLibrary.listAvailableBooks();\n",
        "\n",
        "myLibrary.returnBook(\"The Great Gatsby\");\n",
        "myLibrary.returnBook(\"Non Existent Book\"); // Try to return non-existent book\n",
        "\n",
        "myLibrary.listAllBooks();\n",
        "myLibrary.listAvailableBooks();\n",
        "console.log(\"---\");"
      ],
      "metadata": {
        "id": "Fmss5bPU_5_a"
      },
      "execution_count": null,
      "outputs": []
    },
    {
      "cell_type": "markdown",
      "source": [
        "Explanation: This builds a small Library system. First, a BookInLibrary class tracks individual books (title, author, availability). Then, a Library class manages a collection of these books. It has methods to addBook, checkOutBook, returnBook, and list books. It manages the availability status, ensuring books can only be checked out if available."
      ],
      "metadata": {
        "id": "FHCpJzoGBy4j"
      }
    },
    {
      "cell_type": "markdown",
      "source": [
        "NOTE: i have mentioned some descriptions in code block.by using single comment tags(//)"
      ],
      "metadata": {
        "id": "vW_1p56kB1jN"
      }
    }
  ]
}